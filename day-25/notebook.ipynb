{
 "cells": [
  {
   "cell_type": "code",
   "execution_count": 3,
   "metadata": {},
   "outputs": [
    {
     "name": "stdout",
     "output_type": "stream",
     "text": [
      "2=--=0000-1-0-=1=0=2\n",
      "2=--=0000-1-0-=1=0=2\n"
     ]
    }
   ],
   "source": [
    "#!/usr/bin/python3\n",
    "import sys\n",
    "from decimal import Decimal\n",
    "import math\n",
    "from copy import deepcopy\n",
    "from collections import defaultdict, deque\n",
    "infile = \"input.txt\"\n",
    "data = open(infile).read().strip()\n",
    "lines = [x for x in data.split('\\n')]\n",
    "\n",
    "# Solution 1: Convert to base 10, add, then convert back\n",
    "def to_base10(s):\n",
    "  ans = 0\n",
    "  base = 1\n",
    "  for i,d in enumerate(reversed(s)):\n",
    "    vd = {'2': 2, '1': 1, '0': 0, '-': -1, '=': -2}[d]\n",
    "    ans += vd*base\n",
    "    base *= 5\n",
    "  return ans\n",
    "\n",
    "def max_value(p5):\n",
    "  if p5==1:\n",
    "    return 2\n",
    "  return p5*2 + max_value(p5//5)\n",
    "\n",
    "def to_snafu(n,p5):\n",
    "  D = {2: '2', 1: '1', 0: '0', -1: '-', -2: '='}\n",
    "  if -2 <= n <= 2:\n",
    "    return D[n]\n",
    "  assert abs(n)<=max_value(p5)\n",
    "  for d in [-2,-1,0,1,2]:\n",
    "    nn = n-p5*d\n",
    "    if abs(nn)<=max_value(p5//5):\n",
    "      return D[d]+to_snafu(n-p5*d, p5//5)\n",
    "  assert False, (n, p5,n//p5)\n",
    "\n",
    "base10_sum = 0\n",
    "for line in lines:\n",
    "  base10_sum += to_base10(line)\n",
    "p5 = 1\n",
    "while abs(base10_sum)>max_value(p5):\n",
    "  p5 *= 5\n",
    "print(to_snafu(base10_sum,p5))\n",
    "\n",
    "# Solution 2: add directly in SNAFU\n",
    "max_len = 0\n",
    "for line in lines:\n",
    "  max_len = max(max_len, len(line))\n",
    "\n",
    "VD = {'2': 2, '1': 1, '0': 0, '-': -1, '=': -2}\n",
    "D = {2: '2', 1: '1', 0: '0', -1: '-', -2:'='}\n",
    "ans = ''\n",
    "my_base10 = 0\n",
    "carry = 0\n",
    "for i in range(max_len):\n",
    "  sum_i = carry\n",
    "  for line in lines:\n",
    "    if i<len(line):\n",
    "      sum_i += VD[line[len(line)-1-i]]\n",
    "  carry = 0\n",
    "  while sum_i >= 3:\n",
    "    carry += 1\n",
    "    sum_i -= 5\n",
    "  while sum_i <= -3:\n",
    "    carry -= 1\n",
    "    sum_i += 5\n",
    "  assert -2<=sum_i<=2\n",
    "  ans += D[sum_i]\n",
    "  my_base10 += sum_i*5**i\n",
    "assert carry == 0\n",
    "\n",
    "final = (''.join(list(reversed(ans))))\n",
    "assert to_base10(final) == base10_sum\n",
    "print(final)"
   ]
  }
 ],
 "metadata": {
  "kernelspec": {
   "display_name": "base",
   "language": "python",
   "name": "python3"
  },
  "language_info": {
   "codemirror_mode": {
    "name": "ipython",
    "version": 3
   },
   "file_extension": ".py",
   "mimetype": "text/x-python",
   "name": "python",
   "nbconvert_exporter": "python",
   "pygments_lexer": "ipython3",
   "version": "3.9.13 (main, Aug 25 2022, 18:29:29) \n[Clang 12.0.0 ]"
  },
  "orig_nbformat": 4,
  "vscode": {
   "interpreter": {
    "hash": "c387bef9a026d01e1971c020fd0978009fe0d95bfd72762493cdd30a978f6e22"
   }
  }
 },
 "nbformat": 4,
 "nbformat_minor": 2
}
