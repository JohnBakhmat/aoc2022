{
 "cells": [
  {
   "cell_type": "code",
   "execution_count": 5,
   "metadata": {},
   "outputs": [
    {
     "name": "stdout",
     "output_type": "stream",
     "text": [
      "#.#####\n",
      "#.....#\n",
      "#>....#\n",
      "#.....#\n",
      "#...v.#\n",
      "#.....#\n"
     ]
    },
    {
     "ename": "NameError",
     "evalue": "name 'deque' is not defined",
     "output_type": "error",
     "traceback": [
      "\u001b[0;31m---------------------------------------------------------------------------\u001b[0m",
      "\u001b[0;31mNameError\u001b[0m                                 Traceback (most recent call last)",
      "\u001b[0;32m/var/folders/ty/28k4dsps25q349r3l73zrxqr0000gn/T/ipykernel_86865/1013580764.py\u001b[0m in \u001b[0;36m<module>\u001b[0;34m\u001b[0m\n\u001b[1;32m     42\u001b[0m \u001b[0mgl\u001b[0m \u001b[0;34m=\u001b[0m \u001b[0;34m(\u001b[0m\u001b[0;36m26\u001b[0m\u001b[0;34m,\u001b[0m\u001b[0;36m120\u001b[0m\u001b[0;34m)\u001b[0m\u001b[0;34m\u001b[0m\u001b[0;34m\u001b[0m\u001b[0m\n\u001b[1;32m     43\u001b[0m \u001b[0mdist\u001b[0m \u001b[0;34m=\u001b[0m \u001b[0mdefaultdict\u001b[0m\u001b[0;34m(\u001b[0m\u001b[0;32mlambda\u001b[0m \u001b[0;34m:\u001b[0m \u001b[0mfloat\u001b[0m\u001b[0;34m(\u001b[0m\u001b[0;34m\"inf\"\u001b[0m\u001b[0;34m)\u001b[0m\u001b[0;34m)\u001b[0m\u001b[0;34m\u001b[0m\u001b[0;34m\u001b[0m\u001b[0m\n\u001b[0;32m---> 44\u001b[0;31m \u001b[0mq\u001b[0m \u001b[0;34m=\u001b[0m \u001b[0mdeque\u001b[0m\u001b[0;34m(\u001b[0m\u001b[0;34m)\u001b[0m\u001b[0;34m\u001b[0m\u001b[0;34m\u001b[0m\u001b[0m\n\u001b[0m\u001b[1;32m     45\u001b[0m \u001b[0mq\u001b[0m\u001b[0;34m.\u001b[0m\u001b[0mappend\u001b[0m\u001b[0;34m(\u001b[0m\u001b[0;34m(\u001b[0m\u001b[0mst\u001b[0m\u001b[0;34m,\u001b[0m \u001b[0;32mFalse\u001b[0m\u001b[0;34m,\u001b[0m \u001b[0;32mFalse\u001b[0m\u001b[0;34m,\u001b[0m \u001b[0;36m0\u001b[0m\u001b[0;34m)\u001b[0m\u001b[0;34m)\u001b[0m\u001b[0;34m\u001b[0m\u001b[0;34m\u001b[0m\u001b[0m\n\u001b[1;32m     46\u001b[0m \u001b[0mdist\u001b[0m\u001b[0;34m[\u001b[0m\u001b[0mst\u001b[0m\u001b[0;34m]\u001b[0m \u001b[0;34m=\u001b[0m \u001b[0;36m0\u001b[0m\u001b[0;34m\u001b[0m\u001b[0;34m\u001b[0m\u001b[0m\n",
      "\u001b[0;31mNameError\u001b[0m: name 'deque' is not defined"
     ]
    }
   ],
   "source": [
    "import string\n",
    "from collections import defaultdict\n",
    "import functools\n",
    "import sys\n",
    "sys.setrecursionlimit(100000)\n",
    "dirs = ((0,1),(1,0),(0,-1),(-1,0))\n",
    "dirs3 = ((1,0,0),(-1,0,0),(0,1,0),(0,-1,0),(0,0,1),(0,0,-1))\n",
    "\n",
    "with open(r\"input.txt\") as f:\n",
    "    s = f.read()[:-1]#.strip()\n",
    "print(\"\\n\".join(x[:60] for x in s.split(\"\\n\")[:6]))\n",
    "\n",
    "g = [list(x) for x in s.split(\"\\n\")]\n",
    "N = len(g) - 2\n",
    "M = len(g[0]) - 2\n",
    "\n",
    "m = {\"<\":(0,-1),\n",
    "     \">\":(0,1),\n",
    "     \"v\":(1,0),\n",
    "     \"^\":(-1,0)}\n",
    "\n",
    "blizz_locs = [\n",
    "    [i, j, m[g[i][j]]]\n",
    "    for i in range(1,len(g)-1)\n",
    "    for j in range(1,len(g[0])-1)\n",
    "    if g[i][j] != \".\"\n",
    "]\n",
    "\n",
    "def nxt():\n",
    "    for x in blizz_locs:\n",
    "        i, j, (di, dj) = x\n",
    "        ni = i + di\n",
    "        nj = j + dj\n",
    "        ni = ((ni - 1) % N) + 1\n",
    "        nj = ((nj - 1) % M) + 1\n",
    "        x[0] = ni\n",
    "        x[1] = nj\n",
    "\n",
    "\n",
    "occupied = set()\n",
    "st = (0,1)\n",
    "gl = (26,120)\n",
    "dist = defaultdict(lambda : float(\"inf\"))\n",
    "q = deque()\n",
    "q.append((st, False, False, 0))\n",
    "dist[st] = 0\n",
    "dups = set()\n",
    "maxdist = -1\n",
    "while True:\n",
    "    (cx,cy),r1,r2,cd = q.popleft()\n",
    "    if (cx,cy)==gl and r1 and r2:\n",
    "        print(cx,cy,cd)\n",
    "        break\n",
    "    if cd > maxdist:\n",
    "        #print(cd,maxdist)\n",
    "        maxdist = cd\n",
    "        nxt()\n",
    "        occupied = set()\n",
    "        for i,j,_ in blizz_locs:\n",
    "            occupied.add((i,j))\n",
    "    for dx,dy in dirs + ((0,0),):\n",
    "        nx,ny = cx + dx, cy + dy\n",
    "        if (nx,ny) not in occupied and nx in range(1,1+N) and ny in range(1,1+M) or \\\n",
    "           (nx,ny) == st or (nx,ny) == gl:\n",
    "            if (nx,ny,r1,r2,cd) not in dups:\n",
    "                dups.add((nx,ny,r1,r2,cd))\n",
    "                if (nx,ny) == gl:\n",
    "                    q.append(((nx,ny), True, r2, cd + 1))\n",
    "                elif (nx,ny) == st and r1:\n",
    "                    q.append(((nx,ny), r1, True, cd + 1))\n",
    "                else:\n",
    "                    q.append(((nx,ny), r1, r2, cd + 1))"
   ]
  }
 ],
 "metadata": {
  "kernelspec": {
   "display_name": "base",
   "language": "python",
   "name": "python3"
  },
  "language_info": {
   "codemirror_mode": {
    "name": "ipython",
    "version": 3
   },
   "file_extension": ".py",
   "mimetype": "text/x-python",
   "name": "python",
   "nbconvert_exporter": "python",
   "pygments_lexer": "ipython3",
   "version": "3.9.13"
  },
  "orig_nbformat": 4,
  "vscode": {
   "interpreter": {
    "hash": "c387bef9a026d01e1971c020fd0978009fe0d95bfd72762493cdd30a978f6e22"
   }
  }
 },
 "nbformat": 4,
 "nbformat_minor": 2
}
