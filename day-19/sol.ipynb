{
 "cells": [
  {
   "cell_type": "code",
   "execution_count": 8,
   "metadata": {},
   "outputs": [
    {
     "name": "stdout",
     "output_type": "stream",
     "text": [
      "0\n"
     ]
    }
   ],
   "source": [
    "import re\n",
    "\n",
    "def dfs(bp, maxspend, cache, time, bots, amt):\n",
    "    if time == 0:\n",
    "        return amt[3]\n",
    "    \n",
    "    key = tuple([time, *bots, *amt])\n",
    "    if key in cache:\n",
    "        return cache[key]\n",
    "    \n",
    "    maxval = amt[3] + bots[3] * time\n",
    "    \n",
    "    for btype, recipe in enumerate(bp):\n",
    "        if btype != 3 and bots[btype] >= maxspend[btype]:\n",
    "            continue\n",
    "    \n",
    "        wait = 0\n",
    "        for ramt, rtype in recipe:\n",
    "            if bots[rtype] == 0:\n",
    "                break\n",
    "            wait = max(wait, -(-(ramt - amt[rtype]) // bots[rtype]))\n",
    "        else:\n",
    "            remtime = time - wait - 1\n",
    "            if remtime <= 0:\n",
    "                continue\n",
    "            bots_ = bots[:]\n",
    "            amt_ = [x + y * (wait + 1) for x, y in zip(amt, bots)]\n",
    "            for ramt, rtype in recipe:\n",
    "                amt_[rtype] -= ramt\n",
    "            bots_[btype] += 1\n",
    "            for i in range(3):\n",
    "                amt_[i] = min(amt_[i], maxspend[i] * remtime)\n",
    "            maxval = max(maxval, dfs(bp, maxspend, cache, remtime, bots_, amt_))\n",
    "    \n",
    "    cache[key] = maxval\n",
    "    return maxval\n",
    "\n",
    "total = 0\n",
    "\n",
    "for line in list(open(\"input.txt\"))[:3]:\n",
    "    bp = []\n",
    "    maxspend = [0, 0, 0]\n",
    "    for section in line.split(\": \")[1].split(\". \"):\n",
    "        recipe = []\n",
    "        for x, y in re.findall(r\"(\\d+) (\\w+)\", section):\n",
    "            x = int(x)\n",
    "            y = [\"ore\", \"clay\", \"obsidian\"].index(y)\n",
    "            recipe.append((x, y))\n",
    "            maxspend[y] = max(maxspend[y], x)\n",
    "        bp.append(recipe)\n",
    "    v = dfs(bp, maxspend, {}, 32, [1, 0, 0, 0], [0, 0, 0, 0])\n",
    "    total *= v\n",
    "\n",
    "print(total)"
   ]
  },
  {
   "cell_type": "code",
   "execution_count": 4,
   "metadata": {},
   "outputs": [
    {
     "name": "stdout",
     "output_type": "stream",
     "text": [
      "5301\n"
     ]
    }
   ],
   "source": [
    "import re\n",
    "\n",
    "def dfs(bp, maxspend, cache, time, bots, amt):\n",
    "    if time == 0:\n",
    "        return amt[3]\n",
    "    \n",
    "    key = tuple([time, *bots, *amt])\n",
    "    if key in cache:\n",
    "        return cache[key]\n",
    "    \n",
    "    maxval = amt[3] + bots[3] * time\n",
    "    \n",
    "    for btype, recipe in enumerate(bp):\n",
    "        if btype != 3 and bots[btype] >= maxspend[btype]:\n",
    "            continue\n",
    "    \n",
    "        wait = 0\n",
    "        for ramt, rtype in recipe:\n",
    "            if bots[rtype] == 0:\n",
    "                break\n",
    "            wait = max(wait, -(-(ramt - amt[rtype]) // bots[rtype]))\n",
    "        else:\n",
    "            remtime = time - wait - 1\n",
    "            if remtime <= 0:\n",
    "                continue\n",
    "            bots_ = bots[:]\n",
    "            amt_ = [x + y * (wait + 1) for x, y in zip(amt, bots)]\n",
    "            for ramt, rtype in recipe:\n",
    "                amt_[rtype] -= ramt\n",
    "            bots_[btype] += 1\n",
    "            for i in range(3):\n",
    "                amt_[i] = min(amt_[i], maxspend[i] * remtime)\n",
    "            maxval = max(maxval, dfs(bp, maxspend, cache, remtime, bots_, amt_))\n",
    "    \n",
    "    cache[key] = maxval\n",
    "    return maxval\n",
    "\n",
    "total = 1\n",
    "\n",
    "for line in list(open(\"input.txt\"))[:3]:\n",
    "    bp = []\n",
    "    maxspend = [0, 0, 0]\n",
    "    for section in line.split(\": \")[1].split(\". \"):\n",
    "        recipe = []\n",
    "        for x, y in re.findall(r\"(\\d+) (\\w+)\", section):\n",
    "            x = int(x)\n",
    "            y = [\"ore\", \"clay\", \"obsidian\"].index(y)\n",
    "            recipe.append((x, y))\n",
    "            maxspend[y] = max(maxspend[y], x)\n",
    "        bp.append(recipe)\n",
    "    v = dfs(bp, maxspend, {}, 32, [1, 0, 0, 0], [0, 0, 0, 0])\n",
    "    total *= v\n",
    "\n",
    "print(total)"
   ]
  },
  {
   "attachments": {},
   "cell_type": "markdown",
   "metadata": {},
   "source": [
    "5301"
   ]
  }
 ],
 "metadata": {
  "kernelspec": {
   "display_name": "base",
   "language": "python",
   "name": "python3"
  },
  "language_info": {
   "codemirror_mode": {
    "name": "ipython",
    "version": 3
   },
   "file_extension": ".py",
   "mimetype": "text/x-python",
   "name": "python",
   "nbconvert_exporter": "python",
   "pygments_lexer": "ipython3",
   "version": "3.9.13"
  },
  "orig_nbformat": 4,
  "vscode": {
   "interpreter": {
    "hash": "c387bef9a026d01e1971c020fd0978009fe0d95bfd72762493cdd30a978f6e22"
   }
  }
 },
 "nbformat": 4,
 "nbformat_minor": 2
}
