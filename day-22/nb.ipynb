{
 "cells": [
  {
   "cell_type": "code",
   "execution_count": 15,
   "metadata": {},
   "outputs": [
    {
     "name": "stdout",
     "output_type": "stream",
     "text": [
      "6032\n"
     ]
    }
   ],
   "source": [
    "import re\n",
    "\n",
    "grid = []\n",
    "done = False\n",
    "\n",
    "for line in open(\"input.txt\"):\n",
    "    line = line[:-1]\n",
    "    if line == \"\":\n",
    "        done = True\n",
    "    if done:\n",
    "        sequence = line\n",
    "    else:\n",
    "        grid.append(line)\n",
    "\n",
    "width = max(map(len, grid))\n",
    "grid = [line + \" \" * (width - len(line)) for line in grid]\n",
    "\n",
    "r = 0\n",
    "c = 0\n",
    "dr = 0\n",
    "dc = 1\n",
    "\n",
    "while grid[r][c] != \".\":\n",
    "    c += 1\n",
    "\n",
    "for x, y in re.findall(r\"(\\d+)([RL]?)\", sequence):\n",
    "    x = int(x)\n",
    "    for _ in range(x):\n",
    "        nr = r\n",
    "        nc = c\n",
    "        while True:\n",
    "            nr = (nr + dr) % len(grid)\n",
    "            nc = (nc + dc) % len(grid[0])\n",
    "            if grid[nr][nc] != \" \":\n",
    "                break\n",
    "        if grid[nr][nc] == \"#\":\n",
    "            break\n",
    "        r = nr\n",
    "        c = nc\n",
    "    if y == \"R\":\n",
    "        dr, dc = dc, -dr\n",
    "    elif y == \"L\":\n",
    "        dr, dc = -dc, dr\n",
    "\n",
    "if dr == 0:\n",
    "    if dc == 1:\n",
    "        k = 0\n",
    "    else:\n",
    "        k = 2\n",
    "else:\n",
    "    if dr == 1:\n",
    "        k = 1\n",
    "    else:\n",
    "        k = 3\n",
    "\n",
    "\n",
    "\n",
    "print(1000 * (r + 1) + 4 * (c + 1) + k)"
   ]
  }
 ],
 "metadata": {
  "kernelspec": {
   "display_name": "base",
   "language": "python",
   "name": "python3"
  },
  "language_info": {
   "codemirror_mode": {
    "name": "ipython",
    "version": 3
   },
   "file_extension": ".py",
   "mimetype": "text/x-python",
   "name": "python",
   "nbconvert_exporter": "python",
   "pygments_lexer": "ipython3",
   "version": "3.9.13 (main, Aug 25 2022, 18:29:29) \n[Clang 12.0.0 ]"
  },
  "orig_nbformat": 4,
  "vscode": {
   "interpreter": {
    "hash": "c387bef9a026d01e1971c020fd0978009fe0d95bfd72762493cdd30a978f6e22"
   }
  }
 },
 "nbformat": 4,
 "nbformat_minor": 2
}
