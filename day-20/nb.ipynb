{
 "cells": [
  {
   "cell_type": "code",
   "execution_count": 1,
   "metadata": {},
   "outputs": [
    {
     "name": "stderr",
     "output_type": "stream",
     "text": [
      "100%|██████████| 5000/5000 [00:12<00:00, 408.64it/s]"
     ]
    },
    {
     "name": "stdout",
     "output_type": "stream",
     "text": [
      "9945\n"
     ]
    },
    {
     "name": "stderr",
     "output_type": "stream",
     "text": [
      "\n"
     ]
    }
   ],
   "source": [
    "from tqdm import tqdm\n",
    "\n",
    "with open(\"./input.txt\") as fin:\n",
    "    lines = fin.read().strip().split(\"\\n\")\n",
    "    nums = list(enumerate(map(int, lines)))\n",
    "\n",
    "\n",
    "n = len(nums)\n",
    "og = nums.copy()\n",
    "\n",
    "\n",
    "def swap(nums, a, b):\n",
    "    assert (0 <= a < n) and (0 <= b < n)\n",
    "\n",
    "    nums[a], nums[b] = nums[b], nums[a]\n",
    "    return nums\n",
    "\n",
    "\n",
    "for i, x in tqdm(og):\n",
    "    for idx in range(n):\n",
    "        if nums[idx][0] == i:\n",
    "            break\n",
    "\n",
    "    assert nums[idx][1] == x\n",
    "\n",
    "    if x < 0:\n",
    "        cur = idx\n",
    "        for _ in range(-x):\n",
    "            nums = swap(nums, cur, (cur - 1) % n)\n",
    "            cur = (cur - 1) % n\n",
    "\n",
    "        continue\n",
    "\n",
    "    if x > 0:\n",
    "        cur = idx\n",
    "        for _ in range(x):\n",
    "            nums = swap(nums, cur, (cur + 1) % n)\n",
    "            cur = (cur + 1) % n\n",
    "\n",
    "\n",
    "coords = [1000, 2000, 3000]\n",
    "\n",
    "ans = 0\n",
    "for zero_idx in range(n):\n",
    "    if nums[zero_idx][1] == 0:\n",
    "        break\n",
    "\n",
    "for c in coords:\n",
    "    ans += nums[(zero_idx + c) % n][1]\n",
    "\n",
    "print(ans)"
   ]
  },
  {
   "cell_type": "code",
   "execution_count": 1,
   "metadata": {},
   "outputs": [
    {
     "name": "stderr",
     "output_type": "stream",
     "text": [
      "100%|██████████| 5000/5000 [00:06<00:00, 753.90it/s]\n",
      "100%|██████████| 5000/5000 [00:07<00:00, 672.16it/s]\n",
      "100%|██████████| 5000/5000 [00:07<00:00, 676.56it/s]\n",
      "100%|██████████| 5000/5000 [00:07<00:00, 678.47it/s]\n",
      "100%|██████████| 5000/5000 [00:07<00:00, 678.88it/s]\n",
      "100%|██████████| 5000/5000 [00:07<00:00, 690.29it/s]\n",
      "100%|██████████| 5000/5000 [00:07<00:00, 690.62it/s]\n",
      "100%|██████████| 5000/5000 [00:07<00:00, 688.31it/s]\n",
      "100%|██████████| 5000/5000 [00:07<00:00, 689.14it/s]\n",
      "100%|██████████| 5000/5000 [00:07<00:00, 688.05it/s]\n",
      "100%|██████████| 10/10 [01:12<00:00,  7.25s/it]"
     ]
    },
    {
     "name": "stdout",
     "output_type": "stream",
     "text": [
      "3338877775442\n"
     ]
    },
    {
     "name": "stderr",
     "output_type": "stream",
     "text": [
      "\n"
     ]
    }
   ],
   "source": [
    "from tqdm import tqdm\n",
    "\n",
    "DECRYPT_KEY = 811589153\n",
    "\n",
    "with open(\"./input.txt\") as fin:\n",
    "    lines = fin.read().strip().split(\"\\n\")\n",
    "    nums = list(map(int, lines))\n",
    "\n",
    "    for i in range(len(nums)):\n",
    "        nums[i] = (i, nums[i] * DECRYPT_KEY)\n",
    "\n",
    "\n",
    "n = len(nums)\n",
    "og = nums.copy()\n",
    "\n",
    "\n",
    "def swap(nums, a, b):\n",
    "    assert (0 <= a < n) and (0 <= b < n)\n",
    "\n",
    "    nums[a], nums[b] = nums[b], nums[a]\n",
    "    return nums\n",
    "\n",
    "\n",
    "for _ in tqdm(range(10)):\n",
    "    for i, x in tqdm(og):\n",
    "        for idx in range(n):\n",
    "            if nums[idx][0] == i:\n",
    "                break\n",
    "\n",
    "        assert (nums[idx][1]) == x\n",
    "\n",
    "        x %= (n - 1)\n",
    "\n",
    "        if x > 0:\n",
    "            cur = idx\n",
    "            for _ in range(x):\n",
    "                nums = swap(nums, cur, (cur + 1) % n)\n",
    "                cur = (cur + 1) % n\n",
    "\n",
    "\n",
    "coords = [1000, 2000, 3000]\n",
    "\n",
    "ans = 0\n",
    "for zero_idx in range(n):\n",
    "    if nums[zero_idx][1] == 0:\n",
    "        break\n",
    "\n",
    "for c in coords:\n",
    "    ans += nums[(zero_idx + c) % n][1]\n",
    "\n",
    "print(ans)"
   ]
  },
  {
   "cell_type": "code",
   "execution_count": 4,
   "metadata": {},
   "outputs": [
    {
     "data": {
      "text/plain": [
       "335734316.28376067"
      ]
     },
     "execution_count": 4,
     "metadata": {},
     "output_type": "execute_result"
    }
   ],
   "source": [
    "3338877775442 / 9945"
   ]
  }
 ],
 "metadata": {
  "kernelspec": {
   "display_name": "base",
   "language": "python",
   "name": "python3"
  },
  "language_info": {
   "codemirror_mode": {
    "name": "ipython",
    "version": 3
   },
   "file_extension": ".py",
   "mimetype": "text/x-python",
   "name": "python",
   "nbconvert_exporter": "python",
   "pygments_lexer": "ipython3",
   "version": "3.9.13"
  },
  "orig_nbformat": 4,
  "vscode": {
   "interpreter": {
    "hash": "c387bef9a026d01e1971c020fd0978009fe0d95bfd72762493cdd30a978f6e22"
   }
  }
 },
 "nbformat": 4,
 "nbformat_minor": 2
}
